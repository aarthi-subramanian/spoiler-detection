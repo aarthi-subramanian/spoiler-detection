{
 "cells": [
  {
   "cell_type": "markdown",
   "metadata": {},
   "source": [
    "## Final Project: Spoiler detection"
   ]
  },
  {
   "cell_type": "markdown",
   "metadata": {},
   "source": [
    "### Set up py4j"
   ]
  },
  {
   "cell_type": "code",
   "execution_count": 1,
   "metadata": {},
   "outputs": [
    {
     "data": {
      "text/plain": [
       "<py4j.tests.java_callback_test.IHelloImpl at 0x10752f7d0>"
      ]
     },
     "execution_count": 1,
     "metadata": {},
     "output_type": "execute_result"
    }
   ],
   "source": [
    "# Using py4j without pre-determined ports (should be run before running python code)\n",
    "\n",
    "# Docs: https://www.py4j.org/advanced_topics.html#using-py4j-without-pre-determined-ports-dynamic-port-number\n",
    "from py4j.java_gateway import (\n",
    "    JavaGateway, CallbackServerParameters, GatewayParameters,\n",
    "    launch_gateway)\n",
    "# Launch Java side with dynamic port and get back the port where server was bound\n",
    "port = launch_gateway()\n",
    "\n",
    "# Connect python side to Java side with Java dynamic port, start python callback server with dynamic port\n",
    "gateway = JavaGateway(\n",
    "    gateway_parameters=GatewayParameters(port=port),\n",
    "    callback_server_parameters=CallbackServerParameters(port=0))\n",
    "\n",
    "# Retrieve port where python callback server was bound to\n",
    "python_port = gateway.get_callback_server().get_listening_port()\n",
    "\n",
    "# Tell Java side to connect to the python callback server with the new python port\n",
    "# Note: We use java_gateway_server attribute that retrieves the GatewayServer instance\n",
    "gateway.java_gateway_server.resetCallbackClient(\n",
    "    gateway.java_gateway_server.getCallbackClient().getAddress(),\n",
    "    python_port)\n",
    "\n",
    "# Test that callbacks work\n",
    "from py4j.tests.java_callback_test import IHelloImpl\n",
    "hello = IHelloImpl()\n",
    "# example = gateway.jvm.py4j.examples.ExampleClass()\n",
    "# example.callHello(hello)\n",
    "hello"
   ]
  },
  {
   "cell_type": "markdown",
   "metadata": {},
   "source": [
    "### Set up pyspark"
   ]
  },
  {
   "cell_type": "code",
   "execution_count": 2,
   "metadata": {},
   "outputs": [],
   "source": [
    "import os, pyspark"
   ]
  },
  {
   "cell_type": "code",
   "execution_count": 3,
   "metadata": {},
   "outputs": [],
   "source": [
    "sc = pyspark.SparkContext()"
   ]
  },
  {
   "cell_type": "code",
   "execution_count": 4,
   "metadata": {},
   "outputs": [],
   "source": [
    "import re as re\n",
    "import nltk\n",
    "from nltk.corpus import stopwords\n",
    "from nltk import FreqDist\n",
    "import json\n",
    "import pandas as pd\n",
    "from pandas.io.json import json_normalize\n",
    "from tqdm import tqdm\n",
    "#import regex"
   ]
  },
  {
   "cell_type": "code",
   "execution_count": 5,
   "metadata": {},
   "outputs": [],
   "source": [
    "# importing some libraries\n",
    "import pyspark\n",
    "from pyspark.sql import SQLContext\n",
    "sqlContext = SQLContext(sc)\n",
    "# stuff we'll need for text processing\n",
    "from nltk.corpus import stopwords\n",
    "import re as re\n",
    "from pyspark.ml.feature import HashingTF, IDF\n",
    "# stuff we'll need for building the model\n",
    "\n",
    "from pyspark.mllib.linalg import Vector, Vectors\n",
    "from pyspark.mllib.clustering import LDA, LDAModel\n",
    "from nltk.stem.wordnet import WordNetLemmatizer"
   ]
  },
  {
   "cell_type": "markdown",
   "metadata": {},
   "source": [
    "### Read data"
   ]
  },
  {
   "cell_type": "code",
   "execution_count": 7,
   "metadata": {},
   "outputs": [],
   "source": [
    "df_reviews = sqlContext.read.json(\"C:/Users/silva/Documents/Text Analytics/IMDB_reviews.json\") # ~1GB\n",
    "df_details = sqlContext.read.json(\"C:/Users/silva/Documents/Text Analytics/IMDB_movie_details.json\") # ~15MB\n",
    "\n",
    "# If your datasets are in the same folder as this notebook:\n",
    "# df_reviews = sqlContext.read.json(\"IMDB_reviews.json\") # ~1GB\n",
    "# df_details = sqlContext.read.json(\"IMDB_movie_details.json\") # ~15MB"
   ]
  },
  {
   "cell_type": "code",
   "execution_count": 8,
   "metadata": {},
   "outputs": [
    {
     "data": {
      "text/plain": [
       "pyspark.sql.dataframe.DataFrame"
      ]
     },
     "execution_count": 8,
     "metadata": {},
     "output_type": "execute_result"
    }
   ],
   "source": [
    "type(df_reviews)\n",
    "type(df_details)"
   ]
  },
  {
   "cell_type": "code",
   "execution_count": 9,
   "metadata": {},
   "outputs": [
    {
     "data": {
      "text/plain": [
       "573913"
      ]
     },
     "execution_count": 9,
     "metadata": {},
     "output_type": "execute_result"
    }
   ],
   "source": [
    "# df_reviews.head()\n",
    "df_reviews.count()"
   ]
  },
  {
   "cell_type": "code",
   "execution_count": 10,
   "metadata": {},
   "outputs": [
    {
     "name": "stdout",
     "output_type": "stream",
     "text": [
      "root\n",
      " |-- is_spoiler: boolean (nullable = true)\n",
      " |-- movie_id: string (nullable = true)\n",
      " |-- rating: string (nullable = true)\n",
      " |-- review_date: string (nullable = true)\n",
      " |-- review_summary: string (nullable = true)\n",
      " |-- review_text: string (nullable = true)\n",
      " |-- user_id: string (nullable = true)\n",
      "\n"
     ]
    }
   ],
   "source": [
    "df_reviews.printSchema()"
   ]
  },
  {
   "cell_type": "code",
   "execution_count": 11,
   "metadata": {},
   "outputs": [
    {
     "name": "stdout",
     "output_type": "stream",
     "text": [
      "+---------+------+----------+--------------------+\n",
      "| movie_id|rating|is_spoiler|         review_text|\n",
      "+---------+------+----------+--------------------+\n",
      "|tt0111161|    10|      true|In its Oscar year...|\n",
      "|tt0111161|    10|      true|The Shawshank Red...|\n",
      "|tt0111161|     8|      true|I believe that th...|\n",
      "|tt0111161|    10|      true|**Yes, there are ...|\n",
      "|tt0111161|     8|      true|At the heart of t...|\n",
      "+---------+------+----------+--------------------+\n",
      "only showing top 5 rows\n",
      "\n"
     ]
    }
   ],
   "source": [
    "data = df_reviews.select(['movie_id', 'rating', 'is_spoiler', 'review_text'])\n",
    "data.show(5)"
   ]
  },
  {
   "cell_type": "markdown",
   "metadata": {},
   "source": [
    "### Convert spoiler variable from boolean to string"
   ]
  },
  {
   "cell_type": "code",
   "execution_count": 12,
   "metadata": {},
   "outputs": [
    {
     "name": "stdout",
     "output_type": "stream",
     "text": [
      "+----------+\n",
      "|is_spoiler|\n",
      "+----------+\n",
      "|      true|\n",
      "|     false|\n",
      "+----------+\n",
      "\n"
     ]
    }
   ],
   "source": [
    "# Distinct values of is_spoiler col\n",
    "df_reviews.select(\"is_spoiler\").distinct().show() # All rows are labelled"
   ]
  },
  {
   "cell_type": "code",
   "execution_count": 13,
   "metadata": {},
   "outputs": [],
   "source": [
    "# Replace True/False with Spoiler/non-spoiler\n",
    "from pyspark.sql import functions as f\n",
    "cols = [\"is_spoiler\"]\n",
    "\n",
    "for col in cols:\n",
    "    df_reviews = data.withColumn(col, \n",
    "      f.when(f.col(col) == 'true', 'spoiler')\n",
    "      .when(f.col(col) == 'false', 'not a spoiler')\n",
    "      .when(f.col(col).cast(\"string\") == 'spoiler','spoiler' )\n",
    "      .when(f.col(col).cast(\"string\") == 'not a spoiler', 'not a spoiler'))"
   ]
  },
  {
   "cell_type": "code",
   "execution_count": 14,
   "metadata": {},
   "outputs": [
    {
     "name": "stdout",
     "output_type": "stream",
     "text": [
      "+-------------+\n",
      "|   is_spoiler|\n",
      "+-------------+\n",
      "|not a spoiler|\n",
      "|      spoiler|\n",
      "+-------------+\n",
      "\n"
     ]
    }
   ],
   "source": [
    "# Distinct values of is_spoiler col\n",
    "df_reviews.select(\"is_spoiler\").distinct().show()"
   ]
  },
  {
   "cell_type": "code",
   "execution_count": 15,
   "metadata": {},
   "outputs": [
    {
     "name": "stdout",
     "output_type": "stream",
     "text": [
      "+-------------+------+\n",
      "|   is_spoiler| count|\n",
      "+-------------+------+\n",
      "|not a spoiler|422989|\n",
      "|      spoiler|150924|\n",
      "+-------------+------+\n",
      "\n"
     ]
    }
   ],
   "source": [
    "from pyspark.sql.functions import col\n",
    "\n",
    "df_reviews.groupBy(\"is_spoiler\") \\\n",
    "    .count() \\\n",
    "    .orderBy(col(\"count\").desc()) \\\n",
    "    .show()"
   ]
  },
  {
   "cell_type": "markdown",
   "metadata": {},
   "source": [
    "### Understand review word counts"
   ]
  },
  {
   "cell_type": "code",
   "execution_count": 16,
   "metadata": {},
   "outputs": [
    {
     "name": "stdout",
     "output_type": "stream",
     "text": [
      "+---------+------+----------+--------------------+---------+\n",
      "| movie_id|rating|is_spoiler|         review_text|wordCount|\n",
      "+---------+------+----------+--------------------+---------+\n",
      "|tt0111161|    10|   spoiler|In its Oscar year...|      843|\n",
      "|tt0111161|    10|   spoiler|The Shawshank Red...|      223|\n",
      "|tt0111161|     8|   spoiler|I believe that th...|      250|\n",
      "|tt0111161|    10|   spoiler|**Yes, there are ...|      766|\n",
      "|tt0111161|     8|   spoiler|At the heart of t...|      829|\n",
      "|tt0111161|     8|   spoiler|In recent years t...|      476|\n",
      "|tt0111161|     9|   spoiler|I have been a fan...|      179|\n",
      "|tt0111161|    10|   spoiler|I made my account...|      165|\n",
      "|tt0111161|    10|   spoiler|A friend of mine ...|      250|\n",
      "|tt0111161|    10|   spoiler|Well I guess I'm ...|      502|\n",
      "|tt0111161|     8|   spoiler|I finally watched...|      715|\n",
      "|tt0111161|    10|   spoiler|To tell the truth...|      180|\n",
      "|tt0111161|     8|   spoiler|From the director...|      510|\n",
      "|tt0111161|    10|   spoiler|Wow! what a film ...|      137|\n",
      "|tt0111161|    10|   spoiler|In 1947, banker A...|      697|\n",
      "|tt0111161|    10|   spoiler|Im not going to s...|      290|\n",
      "|tt0111161|    10|   spoiler|I never saw this ...|      412|\n",
      "|tt0111161|    10|   spoiler|I always define f...|      472|\n",
      "|tt0111161|    10|   spoiler|To be honest, I e...|      128|\n",
      "|tt0111161|     8|   spoiler|This is one of th...|      150|\n",
      "+---------+------+----------+--------------------+---------+\n",
      "only showing top 20 rows\n",
      "\n",
      "root\n",
      " |-- movie_id: string (nullable = true)\n",
      " |-- rating: string (nullable = true)\n",
      " |-- is_spoiler: string (nullable = true)\n",
      " |-- review_text: string (nullable = true)\n",
      " |-- wordCount: integer (nullable = false)\n",
      "\n"
     ]
    }
   ],
   "source": [
    "# Add a column representing word count of each review\n",
    "reviews = df_reviews.withColumn('wordCount', f.size(f.split(f.col('review_text'), ' ')))\n",
    "reviews.show()\n",
    "reviews.printSchema()"
   ]
  },
  {
   "cell_type": "code",
   "execution_count": 17,
   "metadata": {},
   "outputs": [
    {
     "name": "stdout",
     "output_type": "stream",
     "text": [
      "+---------+------+-------------+--------------------+---------+\n",
      "| movie_id|rating|   is_spoiler|         review_text|wordCount|\n",
      "+---------+------+-------------+--------------------+---------+\n",
      "|tt0266697|     8|not a spoiler|_\"If you was a mo...|     2673|\n",
      "|tt0118583|     8|      spoiler|****The first two...|     2565|\n",
      "|tt0166924|    10|      spoiler|This is a great p...|     2508|\n",
      "|tt0316356|    10|      spoiler|Being a coordinat...|     2247|\n",
      "|tt0166924|    10|      spoiler|There's a sign on...|     2194|\n",
      "|tt0246460|    10|not a spoiler|\"Die Another Day\"...|     2175|\n",
      "|tt0167260|    10|      spoiler|It's over.It's ov...|     2140|\n",
      "|tt0120755|     1|not a spoiler|IF anyone offers ...|     2118|\n",
      "|tt0099674|     6|      spoiler|Coppola is very g...|     2073|\n",
      "|tt0190332|     9|not a spoiler|As of this writin...|     2058|\n",
      "|tt0266308|     8|      spoiler|Contains Spoilers...|     2042|\n",
      "|tt0290673|    10|      spoiler|Argentinian born ...|     1991|\n",
      "|tt0110148|    10|      spoiler|I can't say I rea...|     1933|\n",
      "|tt0309698|     9|      spoiler|***This review co...|     1928|\n",
      "|tt0167260|    10|not a spoiler|What can I say ab...|     1917|\n",
      "|tt0120338|     9|not a spoiler|Titanic directed ...|     1884|\n",
      "|tt2527336|     1|      spoiler|Star Wars: The La...|     1861|\n",
      "|tt0120737|    10|not a spoiler|It was worth the ...|     1855|\n",
      "|tt0332452|    10|not a spoiler|The bare bones of...|     1846|\n",
      "|tt0120737|    10|      spoiler|***SPOILERS***   ...|     1839|\n",
      "+---------+------+-------------+--------------------+---------+\n",
      "only showing top 20 rows\n",
      "\n"
     ]
    }
   ],
   "source": [
    "reviews.orderBy(col(\"wordCount\").desc()) \\\n",
    "    .show()"
   ]
  },
  {
   "cell_type": "code",
   "execution_count": 18,
   "metadata": {},
   "outputs": [],
   "source": [
    "# !pip install handyspark"
   ]
  },
  {
   "cell_type": "code",
   "execution_count": 19,
   "metadata": {},
   "outputs": [
    {
     "data": {
      "text/plain": [
       "<matplotlib.axes._subplots.AxesSubplot at 0x11b2f4750>"
      ]
     },
     "execution_count": 19,
     "metadata": {},
     "output_type": "execute_result"
    },
    {
     "data": {
      "image/png": "[encoded data removed]",
      "text/plain": [
       "<Figure size 432x288 with 1 Axes>"
      ]
     },
     "metadata": {
      "needs_background": "light"
     },
     "output_type": "display_data"
    }
   ],
   "source": [
    "# Build a boxplot to understand distribution of word counts\n",
    "from handyspark import *\n",
    "reviews_hdf = reviews.toHandy()\n",
    "\n",
    "reviews_hdf.cols['wordCount'].boxplot()"
   ]
  },
  {
   "cell_type": "code",
   "execution_count": 20,
   "metadata": {},
   "outputs": [
    {
     "name": "stdout",
     "output_type": "stream",
     "text": [
      "+-------+------------------+\n",
      "|summary|         wordCount|\n",
      "+-------+------------------+\n",
      "|  count|            573913|\n",
      "|   mean| 259.3990517726554|\n",
      "| stddev|195.43828380845403|\n",
      "|    min|                 1|\n",
      "|    max|              2673|\n",
      "+-------+------------------+\n",
      "\n"
     ]
    }
   ],
   "source": [
    "# Look at basic statistics\n",
    "reviews.describe('wordCount').show()\n",
    "\n",
    "# reviews_hdf.cols['wordCount'].min() # 1\n",
    "# reviews_hdf.cols['wordCount'].max() # 2673\n",
    "# reviews_hdf.cols['wordCount'].median() # 191\n",
    "# reviews_hdf.cols['wordCount'].q1() # 133\n",
    "# reviews_hdf.cols['wordCount'].q3() # 329\n",
    "# reviews_hdf.cols['wordCount'].stddev() # 195.438284\n",
    "# reviews_hdf.cols['wordCount'].mode() # 129"
   ]
  },
  {
   "cell_type": "code",
   "execution_count": 21,
   "metadata": {},
   "outputs": [
    {
     "data": {
      "text/plain": [
       "{'wordCount': [-161.0, 623.0]}"
      ]
     },
     "execution_count": 21,
     "metadata": {},
     "output_type": "execute_result"
    }
   ],
   "source": [
    "# Detect outliers\n",
    "reviews_hdf.outliers(method='tukey', k=3.)\n",
    "hdf_fenced = reviews_hdf.fence(['wordCount']) # fence the outliers\n",
    "hdf_fenced.fences_ # what are the fences? --> {'wordCount': [-161.0, 623.0]}\n",
    "\n",
    "# Limit to reviews with word counts 0 - 623 words\n"
   ]
  },
  {
   "cell_type": "code",
   "execution_count": 22,
   "metadata": {},
   "outputs": [
    {
     "data": {
      "text/plain": [
       "573913"
      ]
     },
     "execution_count": 22,
     "metadata": {},
     "output_type": "execute_result"
    }
   ],
   "source": [
    "# OG number of reviews\n",
    "reviews.count()"
   ]
  },
  {
   "cell_type": "code",
   "execution_count": 23,
   "metadata": {},
   "outputs": [
    {
     "data": {
      "text/plain": [
       "534764"
      ]
     },
     "execution_count": 23,
     "metadata": {},
     "output_type": "execute_result"
    }
   ],
   "source": [
    "# Filter for reviews where word count is between 0 and 623\n",
    "filtered_reviews = reviews.filter(\"wordCount <= '623'\")\n",
    "filtered_reviews.count()"
   ]
  },
  {
   "cell_type": "markdown",
   "metadata": {},
   "source": [
    "### Balance the dataset \n",
    "Adjust to 50/50 spoiler/non-spoiler reviews"
   ]
  },
  {
   "cell_type": "code",
   "execution_count": 24,
   "metadata": {},
   "outputs": [
    {
     "name": "stdout",
     "output_type": "stream",
     "text": [
      "+-------------+------+\n",
      "|   is_spoiler| count|\n",
      "+-------------+------+\n",
      "|not a spoiler|402326|\n",
      "|      spoiler|132438|\n",
      "+-------------+------+\n",
      "\n"
     ]
    }
   ],
   "source": [
    "# Understand how imbalanced the dataset is\n",
    "from pyspark.sql.functions import col\n",
    "\n",
    "filtered_reviews.groupBy(\"is_spoiler\") \\\n",
    "    .count() \\\n",
    "    .orderBy(col(\"count\").desc()) \\\n",
    "    .show()"
   ]
  },
  {
   "cell_type": "code",
   "execution_count": 25,
   "metadata": {},
   "outputs": [],
   "source": [
    "# Create two dfs for sampling purposes\n",
    "spoilerDf = filtered_reviews.filter(\"is_spoiler == 'spoiler'\")\n",
    "nonspoilerDf = filtered_reviews.filter(\"is_spoiler == 'not a spoiler'\")"
   ]
  },
  {
   "cell_type": "code",
   "execution_count": 26,
   "metadata": {},
   "outputs": [],
   "source": [
    "sampleRatio = 132438/402326\n",
    "nonspoilerSampleDf = nonspoilerDf.sample(sampleRatio)"
   ]
  },
  {
   "cell_type": "code",
   "execution_count": 27,
   "metadata": {},
   "outputs": [
    {
     "name": "stdout",
     "output_type": "stream",
     "text": [
      "+-------------+------+\n",
      "|   is_spoiler| count|\n",
      "+-------------+------+\n",
      "|      spoiler|132438|\n",
      "|not a spoiler|132255|\n",
      "+-------------+------+\n",
      "\n"
     ]
    }
   ],
   "source": [
    "filtered_reviews = spoilerDf.unionAll(nonspoilerSampleDf)\n",
    "\n",
    "filtered_reviews.groupBy(\"is_spoiler\") \\\n",
    "    .count() \\\n",
    "    .orderBy(col(\"count\").desc()) \\\n",
    "    .show()"
   ]
  },
  {
   "cell_type": "code",
   "execution_count": 28,
   "metadata": {},
   "outputs": [
    {
     "name": "stdout",
     "output_type": "stream",
     "text": [
      "root\n",
      " |-- movie_id: string (nullable = true)\n",
      " |-- rating: string (nullable = true)\n",
      " |-- is_spoiler: string (nullable = true)\n",
      " |-- review_text: string (nullable = true)\n",
      " |-- wordCount: integer (nullable = false)\n",
      "\n"
     ]
    }
   ],
   "source": [
    "filtered_reviews.printSchema()"
   ]
  },
  {
   "cell_type": "code",
   "execution_count": 29,
   "metadata": {},
   "outputs": [
    {
     "name": "stdout",
     "output_type": "stream",
     "text": [
      "+---------+------+----------+--------------------+\n",
      "| movie_id|rating|is_spoiler|         review_text|\n",
      "+---------+------+----------+--------------------+\n",
      "|tt0111161|    10|   spoiler|The Shawshank Red...|\n",
      "|tt0111161|     8|   spoiler|I believe that th...|\n",
      "|tt0111161|     8|   spoiler|In recent years t...|\n",
      "|tt0111161|     9|   spoiler|I have been a fan...|\n",
      "|tt0111161|    10|   spoiler|I made my account...|\n",
      "+---------+------+----------+--------------------+\n",
      "only showing top 5 rows\n",
      "\n"
     ]
    }
   ],
   "source": [
    "# Remove col \"wordCount\" from df\n",
    "new_reviews = filtered_reviews.select(['movie_id', 'rating', 'is_spoiler', 'review_text'])\n",
    "new_reviews.show(5)"
   ]
  },
  {
   "cell_type": "markdown",
   "metadata": {},
   "source": [
    "### Tokenisation, stem & lemmatisation, removal of stop words"
   ]
  },
  {
   "cell_type": "code",
   "execution_count": 30,
   "metadata": {},
   "outputs": [],
   "source": [
    "from pyspark.ml.feature import RegexTokenizer, StopWordsRemover, CountVectorizer\n",
    "\n",
    "# regular expression tokenizer\n",
    "regexTokenizer = RegexTokenizer(inputCol=\"review_text\", outputCol=\"words\", pattern=\"\\\\W\")\n",
    "# stop words\n",
    "add_stopwords = [\"http\",\"https\",\"amp\",\"rt\",\"t\",\"c\",\"the\"] \n",
    "stopwordsRemover = StopWordsRemover(inputCol=\"words\", outputCol=\"filtered\").setStopWords(add_stopwords)\n",
    "# bag of words count\n",
    "countVectors = CountVectorizer(inputCol=\"filtered\", outputCol=\"features\", vocabSize=10000, minDF=5)"
   ]
  },
  {
   "cell_type": "code",
   "execution_count": 31,
   "metadata": {},
   "outputs": [],
   "source": [
    "descriptions = new_reviews.rdd.map(lambda x : x['review_text']).filter(lambda x: x is not None)\n",
    "StopWords = stopwords.words(\"english\")\n",
    "lmtzr = WordNetLemmatizer()"
   ]
  },
  {
   "cell_type": "code",
   "execution_count": 32,
   "metadata": {},
   "outputs": [],
   "source": [
    "# Note: Long run-time ~10mins\n",
    "tokens = descriptions.map( lambda document: document.strip().lower())               \\\n",
    "    .map( lambda document: re.split(\" \", document))          \\\n",
    "    .map( lambda word: [x for x in word if x.isalpha()])           \\\n",
    "    .map( lambda word: [x for x in word if len(x) > 3] )           \\\n",
    "    .map( lambda word: [x for x in word if x not in StopWords])    \\\n",
    "    .map( lambda word: [lmtzr.lemmatize(x,'v') for x in word]) \\\n",
    "    .zipWithIndex()"
   ]
  },
  {
   "cell_type": "code",
   "execution_count": 33,
   "metadata": {},
   "outputs": [
    {
     "name": "stdout",
     "output_type": "stream",
     "text": [
      "+--------------------+-----+\n",
      "|       list_of_words|index|\n",
      "+--------------------+-----+\n",
      "|[shawshank, redem...|    0|\n",
      "|[believe, film, b...|    1|\n",
      "|[recent, years, i...|    2|\n",
      "|[movie, long, see...|    3|\n",
      "|[make, account, i...|    4|\n",
      "|[friend, mine, li...|    5|\n",
      "|[well, guess, lit...|    6|\n",
      "|[tell, young, mov...|    7|\n",
      "|[director, come, ...|    8|\n",
      "|[film, baby, film...|    9|\n",
      "|[go, deep, explan...|   10|\n",
      "|[never, film, sil...|   11|\n",
      "|[always, define, ...|   12|\n",
      "|[enjoy, read, goo...|   13|\n",
      "|[best, movies, ev...|   14|\n",
      "|[deliberately, mi...|   15|\n",
      "|[bug, movie, rat,...|   16|\n",
      "|[shawshank, shaws...|   17|\n",
      "|[good, surely, ri...|   18|\n",
      "|[shawshank, redem...|   19|\n",
      "+--------------------+-----+\n",
      "only showing top 20 rows\n",
      "\n"
     ]
    }
   ],
   "source": [
    "df_txts = sqlContext.createDataFrame(tokens, [\"list_of_words\",'index'])\n",
    "df_txts.show()"
   ]
  },
  {
   "cell_type": "markdown",
   "metadata": {},
   "source": [
    "### TF-IDF to understand word/token importance"
   ]
  },
  {
   "cell_type": "code",
   "execution_count": 36,
   "metadata": {},
   "outputs": [],
   "source": [
    "# TF\n",
    "# Note: Long run-time ~10mins\n",
    "hashingTF = HashingTF(inputCol=\"filtered\", outputCol=\"rawFeatures\", numFeatures=10000)\n",
    "cv = CountVectorizer(inputCol=\"list_of_words\", outputCol=\"raw_features\", vocabSize=5000, minDF=10.0)\n",
    "cvmodel = cv.fit(df_txts)\n",
    "result_cv = cvmodel.transform(df_txts)"
   ]
  },
  {
   "cell_type": "code",
   "execution_count": 37,
   "metadata": {},
   "outputs": [],
   "source": [
    "# IDF\n",
    "# Note: Long run-time ~10mins\n",
    "idf = IDF(inputCol=\"raw_features\", outputCol=\"features\")\n",
    "idfModel = idf.fit(result_cv)\n",
    "result_tfidf = idfModel.transform(result_cv) "
   ]
  },
  {
   "cell_type": "code",
   "execution_count": 38,
   "metadata": {},
   "outputs": [
    {
     "name": "stdout",
     "output_type": "stream",
     "text": [
      "+--------------------+-----+--------------------+--------------------+\n",
      "|       list_of_words|index|        raw_features|            features|\n",
      "+--------------------+-----+--------------------+--------------------+\n",
      "|[shawshank, redem...|    0|(5000,[0,10,11,19...|(5000,[0,10,11,19...|\n",
      "|[believe, film, b...|    1|(5000,[1,2,3,6,10...|(5000,[1,2,3,6,10...|\n",
      "|[recent, years, i...|    2|(5000,[0,1,2,3,4,...|(5000,[0,1,2,3,4,...|\n",
      "|[movie, long, see...|    3|(5000,[0,1,2,3,5,...|(5000,[0,1,2,3,5,...|\n",
      "|[make, account, i...|    4|(5000,[0,3,8,10,1...|(5000,[0,3,8,10,1...|\n",
      "|[friend, mine, li...|    5|(5000,[0,2,4,6,12...|(5000,[0,2,4,6,12...|\n",
      "|[well, guess, lit...|    6|(5000,[1,2,5,7,8,...|(5000,[1,2,5,7,8,...|\n",
      "|[tell, young, mov...|    7|(5000,[0,1,25,28,...|(5000,[0,1,25,28,...|\n",
      "|[director, come, ...|    8|(5000,[1,3,4,5,7,...|(5000,[1,3,4,5,7,...|\n",
      "|[film, baby, film...|    9|(5000,[1,2,3,5,7,...|(5000,[1,2,3,5,7,...|\n",
      "|[go, deep, explan...|   10|(5000,[0,1,3,7,8,...|(5000,[0,1,3,7,8,...|\n",
      "|[never, film, sil...|   11|(5000,[0,1,3,8,11...|(5000,[0,1,3,8,11...|\n",
      "|[always, define, ...|   12|(5000,[1,2,3,10,1...|(5000,[1,2,3,10,1...|\n",
      "|[enjoy, read, goo...|   13|(5000,[0,1,4,5,8,...|(5000,[0,1,4,5,8,...|\n",
      "|[best, movies, ev...|   14|(5000,[0,2,4,6,7,...|(5000,[0,2,4,6,7,...|\n",
      "|[deliberately, mi...|   15|(5000,[0,2,3,4,6,...|(5000,[0,2,3,4,6,...|\n",
      "|[bug, movie, rat,...|   16|(5000,[0,2,4,6,10...|(5000,[0,2,4,6,10...|\n",
      "|[shawshank, shaws...|   17|(5000,[0,1,2,6,7,...|(5000,[0,1,2,6,7,...|\n",
      "|[good, surely, ri...|   18|(5000,[0,4,5,8,14...|(5000,[0,4,5,8,14...|\n",
      "|[shawshank, redem...|   19|(5000,[0,8,12,13,...|(5000,[0,8,12,13,...|\n",
      "+--------------------+-----+--------------------+--------------------+\n",
      "only showing top 20 rows\n",
      "\n"
     ]
    }
   ],
   "source": [
    "result_tfidf.show()"
   ]
  },
  {
   "cell_type": "markdown",
   "metadata": {},
   "source": [
    "### Spark pipeline - basic"
   ]
  },
  {
   "cell_type": "code",
   "execution_count": 34,
   "metadata": {},
   "outputs": [
    {
     "name": "stdout",
     "output_type": "stream",
     "text": [
      "+---------+------+----------+--------------------+--------------------+--------------------+--------------------+-----+\n",
      "| movie_id|rating|is_spoiler|         review_text|               words|            filtered|            features|label|\n",
      "+---------+------+----------+--------------------+--------------------+--------------------+--------------------+-----+\n",
      "|tt0111161|    10|   spoiler|The Shawshank Red...|[the, shawshank, ...|[shawshank, redem...|(10000,[0,1,2,3,4...|  0.0|\n",
      "|tt0111161|     8|   spoiler|I believe that th...|[i, believe, that...|[i, believe, that...|(10000,[0,1,2,3,4...|  0.0|\n",
      "|tt0111161|     8|   spoiler|In recent years t...|[in, recent, year...|[in, recent, year...|(10000,[0,1,2,3,4...|  0.0|\n",
      "|tt0111161|     9|   spoiler|I have been a fan...|[i, have, been, a...|[i, have, been, a...|(10000,[0,1,2,3,4...|  0.0|\n",
      "|tt0111161|    10|   spoiler|I made my account...|[i, made, my, acc...|[i, made, my, acc...|(10000,[0,1,2,3,6...|  0.0|\n",
      "+---------+------+----------+--------------------+--------------------+--------------------+--------------------+-----+\n",
      "only showing top 5 rows\n",
      "\n"
     ]
    }
   ],
   "source": [
    "from pyspark.ml import Pipeline\n",
    "from pyspark.ml.feature import OneHotEncoder, StringIndexer, VectorAssembler\n",
    "label_stringIdx = StringIndexer(inputCol = \"is_spoiler\", outputCol = \"label\")\n",
    "pipeline = Pipeline(stages=[regexTokenizer, stopwordsRemover, countVectors, label_stringIdx])\n",
    "\n",
    "# Fit the pipeline to training documents.\n",
    "pipelineFit = pipeline.fit(new_reviews)\n",
    "dataset = pipelineFit.transform(new_reviews)\n",
    "dataset.show(5)"
   ]
  },
  {
   "cell_type": "markdown",
   "metadata": {},
   "source": [
    "## Part 1) Spoiler Detection Modeling\n",
    "Experiment with various classification models to build a good model for predicting whether a movie review has spoiler content. This model will be used to inform subsequent parts of the project."
   ]
  },
  {
   "cell_type": "markdown",
   "metadata": {},
   "source": [
    "### Split Data to Train vs. Test"
   ]
  },
  {
   "cell_type": "code",
   "execution_count": 35,
   "metadata": {},
   "outputs": [
    {
     "name": "stdout",
     "output_type": "stream",
     "text": [
      "Training Dataset Count: 185504\n",
      "Test Dataset Count: 79189\n"
     ]
    }
   ],
   "source": [
    "# Partitioning data into test and training sets (set seed for reproducibility)\n",
    "# Note: Long run-time ~10mins\n",
    "(trainingData, testData) = dataset.randomSplit([0.7, 0.3], seed = 100)\n",
    "print(\"Training Dataset Count: \" + str(trainingData.count()))\n",
    "print(\"Test Dataset Count: \" + str(testData.count()))"
   ]
  },
  {
   "cell_type": "markdown",
   "metadata": {},
   "source": [
    "### Logistic Regression - basic model"
   ]
  },
  {
   "cell_type": "code",
   "execution_count": 36,
   "metadata": {},
   "outputs": [
    {
     "name": "stdout",
     "output_type": "stream",
     "text": [
      "+------------------------------+----------+------------------------------+-----+----------+\n",
      "|                   review_text|is_spoiler|                   probability|label|prediction|\n",
      "+------------------------------+----------+------------------------------+-----+----------+\n",
      "|When the monster first appe...|   spoiler|[0.9998526859575743,1.47314...|  0.0|       0.0|\n",
      "|****This is the spoiler****...|   spoiler|[0.9997395867727934,2.60413...|  0.0|       0.0|\n",
      "|THIS DEFINITELY HAS SPOILER...|   spoiler|[0.9990549991514793,9.45000...|  0.0|       0.0|\n",
      "|This brilliant film directe...|   spoiler|[0.9989338140900832,0.00106...|  0.0|       0.0|\n",
      "|Ok. Not many films impress ...|   spoiler|[0.9977154976188852,0.00228...|  0.0|       0.0|\n",
      "|This film (spoiler alert) i...|   spoiler|[0.9975348528315906,0.00246...|  0.0|       0.0|\n",
      "|SPOILER ALERT!!!Iron Man 3 ...|   spoiler|[0.9974469806604119,0.00255...|  0.0|       0.0|\n",
      "|The bit with the kid is pro...|   spoiler|[0.9973630682571987,0.00263...|  0.0|       0.0|\n",
      "|You know those cretinous B-...|   spoiler|[0.9973488940553903,0.00265...|  0.0|       0.0|\n",
      "|As the opening credits of t...|   spoiler|[0.9972304453835975,0.00276...|  0.0|       0.0|\n",
      "+------------------------------+----------+------------------------------+-----+----------+\n",
      "only showing top 10 rows\n",
      "\n"
     ]
    }
   ],
   "source": [
    "#logistic regression\n",
    "# Note: Long run-time ~10mins\n",
    "from pyspark.ml.classification import LogisticRegression\n",
    "lr = LogisticRegression(maxIter=20, regParam=0.3, elasticNetParam=0)\n",
    "lrModel = lr.fit(trainingData)\n",
    "predictions = lrModel.transform(testData)\n",
    "predictions.filter(predictions['prediction'] == 0) \\\n",
    "    .select(\"review_text\",\"is_spoiler\",\"probability\",\"label\",\"prediction\") \\\n",
    "    .orderBy(\"probability\", ascending=False) \\\n",
    "    .show(n = 10, truncate = 30)"
   ]
  },
  {
   "cell_type": "code",
   "execution_count": 37,
   "metadata": {},
   "outputs": [],
   "source": [
    "#function for precision/recall\n",
    "from pyspark.mllib.evaluation import BinaryClassificationMetrics, MulticlassMetrics\n",
    "from pyspark.ml.evaluation import BinaryClassificationEvaluator\n",
    "\n",
    "def evaluate(predictions):\n",
    "    log = {}\n",
    "\n",
    "    # Show Validation Score (AUROC)\n",
    "    evaluator = BinaryClassificationEvaluator(metricName='areaUnderROC')\n",
    "    log['AUROC'] = \"%f\" % evaluator.evaluate(predictions)    \n",
    "    print(\"Area under ROC = {}\".format(log['AUROC']))\n",
    "\n",
    "    # Show Validation Score (AUPR)\n",
    "    evaluator = BinaryClassificationEvaluator(metricName='areaUnderPR')\n",
    "    log['AUPR'] = \"%f\" % evaluator.evaluate(predictions)\n",
    "    print(\"Area under PR = {}\".format(log['AUPR']))\n",
    "\n",
    "    return log"
   ]
  },
  {
   "cell_type": "code",
   "execution_count": 38,
   "metadata": {},
   "outputs": [
    {
     "name": "stdout",
     "output_type": "stream",
     "text": [
      "Area under ROC = 0.757863\n",
      "Area under PR = 0.738353\n"
     ]
    }
   ],
   "source": [
    "# Note: Long run-time ~10mins\n",
    "log = evaluate(predictions)"
   ]
  },
  {
   "cell_type": "code",
   "execution_count": 39,
   "metadata": {},
   "outputs": [
    {
     "data": {
      "image/png": "[encoded data removed]",
      "text/plain": [
       "<Figure size 432x288 with 1 Axes>"
      ]
     },
     "metadata": {
      "needs_background": "light"
     },
     "output_type": "display_data"
    }
   ],
   "source": [
    "# Extract the summary from the returned LogisticRegressionModel instance trained\n",
    "import matplotlib.pyplot as plt\n",
    "trainingSummary = lrModel.summary\n",
    "\n",
    "#trainingSummary.roc.show(n=10, truncate=15)\n",
    "roc = trainingSummary.roc.toPandas()\n",
    "plt.plot(roc['FPR'],roc['TPR'])\n",
    "plt.ylabel('False Positive Rate')\n",
    "plt.xlabel('True Positive Rate')\n",
    "plt.title('ROC Curve')\n",
    "plt.show()"
   ]
  },
  {
   "cell_type": "code",
   "execution_count": 40,
   "metadata": {},
   "outputs": [
    {
     "name": "stdout",
     "output_type": "stream",
     "text": [
      "precision/recall: DataFrame[recall: double, precision: double]\n"
     ]
    },
    {
     "data": {
      "image/png": "[encoded data removed]",
      "text/plain": [
       "<Figure size 432x288 with 1 Axes>"
      ]
     },
     "metadata": {
      "needs_background": "light"
     },
     "output_type": "display_data"
    }
   ],
   "source": [
    "#View the precision and recall\n",
    "print(\"precision/recall: \" + str(trainingSummary.pr))\n",
    "pr = trainingSummary.pr.toPandas()\n",
    "plt.plot(pr['recall'],pr['precision'])\n",
    "plt.ylabel('Precision')\n",
    "plt.xlabel('Recall')\n",
    "plt.show()"
   ]
  },
  {
   "cell_type": "code",
   "execution_count": 41,
   "metadata": {},
   "outputs": [
    {
     "data": {
      "image/png": "[encoded data removed]",
      "text/plain": [
       "<Figure size 432x288 with 1 Axes>"
      ]
     },
     "metadata": {
      "needs_background": "light"
     },
     "output_type": "display_data"
    }
   ],
   "source": [
    "# Set the model threshold to maximize F-Measure\n",
    "#trainingSummary.fMeasureByThreshold.show(n=10, truncate = 15)\n",
    "f = trainingSummary.fMeasureByThreshold.toPandas()\n",
    "plt.plot(f['threshold'],f['F-Measure'])\n",
    "plt.ylabel('F-Measure')\n",
    "plt.xlabel('Threshold')\n",
    "plt.show()"
   ]
  },
  {
   "cell_type": "code",
   "execution_count": 42,
   "metadata": {},
   "outputs": [
    {
     "data": {
      "text/plain": [
       "0.6860485675894255"
      ]
     },
     "execution_count": 42,
     "metadata": {},
     "output_type": "execute_result"
    }
   ],
   "source": [
    "# Accuracy\n",
    "# Note: Long run-time ~10mins\n",
    "from pyspark.ml.evaluation import MulticlassClassificationEvaluator\n",
    "evaluator = MulticlassClassificationEvaluator(predictionCol=\"prediction\")\n",
    "evaluator.evaluate(predictions)\n",
    "#accuracy: 0.6829943437710129"
   ]
  },
  {
   "cell_type": "code",
   "execution_count": 43,
   "metadata": {},
   "outputs": [
    {
     "name": "stdout",
     "output_type": "stream",
     "text": [
      "Training: Area Under ROC: 0.7864540211173237\n",
      "Test: Area Under ROC: 0.7578628212740164\n"
     ]
    }
   ],
   "source": [
    "from pyspark.ml.evaluation import BinaryClassificationEvaluator\n",
    "print(\"Training: Area Under ROC: \" + str(trainingSummary.areaUnderROC))\n",
    "\n",
    "# Evaluate model\n",
    "evaluator = BinaryClassificationEvaluator(rawPredictionCol=\"rawPrediction\")\n",
    "print(\"Test: Area Under ROC: \" + str(evaluator.evaluate(predictions, {evaluator.metricName: \"areaUnderROC\"})))"
   ]
  },
  {
   "cell_type": "markdown",
   "metadata": {},
   "source": [
    "### Logistic Regression with TF-IDF features"
   ]
  },
  {
   "cell_type": "code",
   "execution_count": 44,
   "metadata": {},
   "outputs": [
    {
     "name": "stdout",
     "output_type": "stream",
     "text": [
      "+------------------------------+----------+------------------------------+-----+----------+\n",
      "|                   review_text|is_spoiler|                   probability|label|prediction|\n",
      "+------------------------------+----------+------------------------------+-----+----------+\n",
      "|When the monster first appe...|   spoiler|[0.999307122222365,6.928777...|  0.0|       0.0|\n",
      "|****This is the spoiler****...|   spoiler|[0.9987491671859607,0.00125...|  0.0|       0.0|\n",
      "|This brilliant film directe...|   spoiler|[0.9982979611207095,0.00170...|  0.0|       0.0|\n",
      "|So Wolverine saved this one...|   spoiler|[0.9982007071983332,0.00179...|  0.0|       0.0|\n",
      "|The bit with the kid is pro...|   spoiler|[0.9978419090485574,0.00215...|  0.0|       0.0|\n",
      "|One of the worst Star Trek ...|   spoiler|[0.9972325968578232,0.00276...|  0.0|       0.0|\n",
      "|You know those cretinous B-...|   spoiler|[0.9971577179372182,0.00284...|  0.0|       0.0|\n",
      "|I joined IMDb simply to rev...|   spoiler|[0.996476869308338,0.003523...|  0.0|       0.0|\n",
      "|The movie starts showing ou...|   spoiler|[0.9948598744704696,0.00514...|  0.0|       0.0|\n",
      "|This film (spoiler alert) i...|   spoiler|[0.9947953103995126,0.00520...|  0.0|       0.0|\n",
      "+------------------------------+----------+------------------------------+-----+----------+\n",
      "only showing top 10 rows\n",
      "\n"
     ]
    }
   ],
   "source": [
    "# Note: Long run-time ~10mins\n",
    "from pyspark.ml.feature import HashingTF, IDF\n",
    "\n",
    "hashingTF = HashingTF(inputCol=\"filtered\", outputCol=\"rawFeatures\", numFeatures=10000)\n",
    "idf2 = IDF(inputCol=\"rawFeatures\", outputCol=\"features\")\n",
    "pipeline = Pipeline(stages=[regexTokenizer, stopwordsRemover, hashingTF, idf2, label_stringIdx])\n",
    "pipelineFit = pipeline.fit(new_reviews)\n",
    "dataset = pipelineFit.transform(new_reviews)\n",
    "(trainingData, testData) = dataset.randomSplit([0.7, 0.3], seed = 100)\n",
    "\n",
    "lr = LogisticRegression(maxIter=20, regParam=0.3, elasticNetParam=0)\n",
    "lrModel = lr.fit(trainingData)\n",
    "predictions = lrModel.transform(testData)\n",
    "predictions.filter(predictions['prediction'] == 0) \\\n",
    "    .select(\"review_text\",\"is_spoiler\",\"probability\",\"label\",\"prediction\") \\\n",
    "    .orderBy(\"probability\", ascending=False) \\\n",
    "    .show(n = 10, truncate = 30)"
   ]
  },
  {
   "cell_type": "code",
   "execution_count": 45,
   "metadata": {},
   "outputs": [
    {
     "name": "stdout",
     "output_type": "stream",
     "text": [
      "Area under ROC = 0.747583\n",
      "Area under PR = 0.729482\n"
     ]
    }
   ],
   "source": [
    "# Area under ROC, area under PR\n",
    "# Note: Long run-time ~10mins\n",
    "log = evaluate(predictions)"
   ]
  },
  {
   "cell_type": "code",
   "execution_count": 46,
   "metadata": {},
   "outputs": [
    {
     "data": {
      "text/plain": [
       "0.6775548360816912"
      ]
     },
     "execution_count": 46,
     "metadata": {},
     "output_type": "execute_result"
    }
   ],
   "source": [
    "# Accuracy\n",
    "evaluator = MulticlassClassificationEvaluator(predictionCol=\"prediction\")\n",
    "evaluator.evaluate(predictions)\n",
    "#accuracy: 0.6757144617753544"
   ]
  },
  {
   "cell_type": "code",
   "execution_count": 47,
   "metadata": {},
   "outputs": [
    {
     "data": {
      "image/png": "[encoded data removed]",
      "text/plain": [
       "<Figure size 432x288 with 1 Axes>"
      ]
     },
     "metadata": {
      "needs_background": "light"
     },
     "output_type": "display_data"
    }
   ],
   "source": [
    "#View the precision and recall\n",
    "pr = trainingSummary.pr.toPandas()\n",
    "plt.plot(pr['recall'],pr['precision'])\n",
    "plt.ylabel('Precision')\n",
    "plt.xlabel('Recall')\n",
    "plt.show()"
   ]
  },
  {
   "cell_type": "code",
   "execution_count": 48,
   "metadata": {},
   "outputs": [
    {
     "data": {
      "image/png": "[encoded data removed]",
      "text/plain": [
       "<Figure size 432x288 with 1 Axes>"
      ]
     },
     "metadata": {
      "needs_background": "light"
     },
     "output_type": "display_data"
    }
   ],
   "source": [
    "trainingSummary = lrModel.summary\n",
    "\n",
    "#trainingSummary.roc.show(n=10, truncate=15)\n",
    "roc = trainingSummary.roc.toPandas()\n",
    "plt.plot(roc['FPR'],roc['TPR'])\n",
    "plt.ylabel('False Positive Rate')\n",
    "plt.xlabel('True Positive Rate')\n",
    "plt.title('ROC Curve')\n",
    "plt.show()"
   ]
  },
  {
   "cell_type": "code",
   "execution_count": 49,
   "metadata": {},
   "outputs": [
    {
     "name": "stdout",
     "output_type": "stream",
     "text": [
      "Training: Area Under ROC: 0.7765116227722441\n",
      "Test: Area Under ROC: 0.7475834933566737\n"
     ]
    }
   ],
   "source": [
    "# Run Results on Training Data\n",
    "trainingSummary = lrModel.summary\n",
    "print(\"Training: Area Under ROC: \" + str(trainingSummary.areaUnderROC))\n",
    "\n",
    "# Predict on Test Data\n",
    "predictions = lrModel.transform(testData)\n",
    "# Evaluate model\n",
    "evaluator = BinaryClassificationEvaluator(rawPredictionCol=\"rawPrediction\")\n",
    "\n",
    "print(\"Test: Area Under ROC: \" + str(evaluator.evaluate(predictions, {evaluator.metricName: \"areaUnderROC\"})))\n",
    "#Training ROC: 77.7%\n",
    "#Test ROC: 74.3% "
   ]
  },
  {
   "cell_type": "markdown",
   "metadata": {},
   "source": [
    "### Logistic Regression with Word2Vec features"
   ]
  },
  {
   "cell_type": "code",
   "execution_count": 50,
   "metadata": {},
   "outputs": [],
   "source": [
    "from pyspark.ml.feature import Word2Vec\n",
    "\n",
    "# Learn a mapping from words to Vectors.\n",
    "word2Vec = Word2Vec(vectorSize=10, minCount=5, inputCol=\"filtered\", outputCol=\"features\") # vectorSize=1000 # hm\n",
    "\n",
    "# Redo Pipeline\n",
    "pipeline = Pipeline(stages=[regexTokenizer, stopwordsRemover, word2Vec, label_stringIdx])"
   ]
  },
  {
   "cell_type": "code",
   "execution_count": 51,
   "metadata": {},
   "outputs": [],
   "source": [
    "# Note: Long run-time ~30mins\n",
    "# Fit pipeline to training docs\n",
    "pipelineFit = pipeline.fit(new_reviews)\n",
    "dataset = pipelineFit.transform(new_reviews)\n",
    "(trainingData, testData) = dataset.randomSplit([0.7, 0.3], seed = 100)\n",
    "\n",
    "# Build model\n",
    "lr = LogisticRegression(maxIter=10, regParam=0.3, elasticNetParam=0, family = \"binomial\")\n",
    "\n",
    "# Train model with train data\n",
    "lrModel = lr.fit(trainingData)"
   ]
  },
  {
   "cell_type": "code",
   "execution_count": 52,
   "metadata": {},
   "outputs": [
    {
     "name": "stdout",
     "output_type": "stream",
     "text": [
      "+------------------------------+-------------+------------------------------+-----+----------+\n",
      "|                   review_text|   is_spoiler|                   probability|label|prediction|\n",
      "+------------------------------+-------------+------------------------------+-----+----------+\n",
      "|In 2014, Peter Quill, Gamor...|not a spoiler|[0.851511260341418,0.148488...|  1.0|       0.0|\n",
      "|A retired couple, Shūkichi ...|      spoiler|[0.8466164678957426,0.15338...|  0.0|       0.0|\n",
      "|In a fairy tale, Princess M...|      spoiler|[0.8298711387261245,0.17012...|  0.0|       0.0|\n",
      "|Ferdinand is a young bull w...|not a spoiler|[0.8295636056505544,0.17043...|  1.0|       0.0|\n",
      "|In 1988, a businessman name...|      spoiler|[0.8286983605090351,0.17130...|  0.0|       0.0|\n",
      "|Teenager Marty McFly is an ...|      spoiler|[0.8273321163856948,0.17266...|  0.0|       0.0|\n",
      "|Carl Fredricksen is a young...|      spoiler|[0.825940163538746,0.174059...|  0.0|       0.0|\n",
      "|In 1944 the fascist Captain...|      spoiler|[0.8188887825509533,0.18111...|  0.0|       0.0|\n",
      "|The film opens in October 1...|not a spoiler|[0.8166520591518789,0.18334...|  1.0|       0.0|\n",
      "|WARNING! Spoilers Ahead!!! ...|      spoiler|[0.8156528011049862,0.18434...|  0.0|       0.0|\n",
      "+------------------------------+-------------+------------------------------+-----+----------+\n",
      "only showing top 10 rows\n",
      "\n"
     ]
    }
   ],
   "source": [
    "# Predict on test data\n",
    "predictions = lrModel.transform(testData)\n",
    "predictions.filter(predictions['prediction'] == 0) \\\n",
    "    .select(\"review_text\",\"is_spoiler\",\"probability\",\"label\",\"prediction\") \\\n",
    "    .orderBy(\"probability\", ascending=False) \\\n",
    "    .show(n = 10, truncate = 30)"
   ]
  },
  {
   "cell_type": "code",
   "execution_count": 53,
   "metadata": {},
   "outputs": [
    {
     "name": "stdout",
     "output_type": "stream",
     "text": [
      "Area under ROC = 0.673896\n",
      "Area under PR = 0.669295\n"
     ]
    }
   ],
   "source": [
    "# Area under ROC, area under PR\n",
    "# Note: Long run-time ~10mins\n",
    "log = evaluate(predictions)"
   ]
  },
  {
   "cell_type": "code",
   "execution_count": 54,
   "metadata": {},
   "outputs": [
    {
     "data": {
      "text/plain": [
       "0.6267876614329393"
      ]
     },
     "execution_count": 54,
     "metadata": {},
     "output_type": "execute_result"
    }
   ],
   "source": [
    "# Accuracy\n",
    "evaluator = MulticlassClassificationEvaluator(predictionCol=\"prediction\")\n",
    "evaluator.evaluate(predictions)\n",
    "#accuracy: "
   ]
  },
  {
   "cell_type": "code",
   "execution_count": 55,
   "metadata": {},
   "outputs": [
    {
     "data": {
      "image/png": "[encoded data removed]",
      "text/plain": [
       "<Figure size 432x288 with 1 Axes>"
      ]
     },
     "metadata": {
      "needs_background": "light"
     },
     "output_type": "display_data"
    }
   ],
   "source": [
    "# Precision and recall\n",
    "pr = trainingSummary.pr.toPandas()\n",
    "plt.plot(pr['recall'],pr['precision'])\n",
    "plt.ylabel('Precision')\n",
    "plt.xlabel('Recall')\n",
    "plt.show()"
   ]
  },
  {
   "cell_type": "code",
   "execution_count": 56,
   "metadata": {},
   "outputs": [
    {
     "data": {
      "image/png": "[encoded data removed]",
      "text/plain": [
       "<Figure size 432x288 with 1 Axes>"
      ]
     },
     "metadata": {
      "needs_background": "light"
     },
     "output_type": "display_data"
    }
   ],
   "source": [
    "# Area under ROC\n",
    "trainingSummary = lrModel.summary\n",
    "\n",
    "#trainingSummary.roc.show(n=10, truncate=15)\n",
    "roc = trainingSummary.roc.toPandas()\n",
    "plt.plot(roc['FPR'],roc['TPR'])\n",
    "plt.ylabel('False Positive Rate')\n",
    "plt.xlabel('True Positive Rate')\n",
    "plt.title('ROC Curve')\n",
    "plt.show()"
   ]
  },
  {
   "cell_type": "code",
   "execution_count": 57,
   "metadata": {},
   "outputs": [
    {
     "name": "stdout",
     "output_type": "stream",
     "text": [
      "Training: Area Under ROC: 0.6731965616202823\n",
      "Test: Area Under ROC: 0.673896427065311\n"
     ]
    }
   ],
   "source": [
    "# Run Results on Training Data\n",
    "trainingSummary = lrModel.summary\n",
    "print(\"Training: Area Under ROC: \" + str(trainingSummary.areaUnderROC))\n",
    "\n",
    "# Predict on Test Data\n",
    "predictions = lrModel.transform(testData)\n",
    "# Evaluate model\n",
    "evaluator = BinaryClassificationEvaluator(rawPredictionCol=\"rawPrediction\")\n",
    "\n",
    "print(\"Test: Area Under ROC: \" + str(evaluator.evaluate(predictions, {evaluator.metricName: \"areaUnderROC\"})))\n",
    "#Training ROC: 0.7151461681686627\n",
    "#Test ROC: "
   ]
  },
  {
   "cell_type": "markdown",
   "metadata": {},
   "source": [
    "### Random Forest model"
   ]
  },
  {
   "cell_type": "code",
   "execution_count": 58,
   "metadata": {},
   "outputs": [
    {
     "name": "stdout",
     "output_type": "stream",
     "text": [
      "+------------------------------+----------+------------------------------+-----+----------+\n",
      "|                   review_text|is_spoiler|                   probability|label|prediction|\n",
      "+------------------------------+----------+------------------------------+-----+----------+\n",
      "|One woman took on a corpora...|   spoiler|[0.6775049714434234,0.32249...|  0.0|       0.0|\n",
      "|My 7-year-old daughter aske...|   spoiler|[0.6775049714434234,0.32249...|  0.0|       0.0|\n",
      "|Hannibal Lechter.There has ...|   spoiler|[0.6775049714434234,0.32249...|  0.0|       0.0|\n",
      "|There is an interesting mom...|   spoiler|[0.6775049714434234,0.32249...|  0.0|       0.0|\n",
      "|This film is a wonderful re...|   spoiler|[0.6775049714434234,0.32249...|  0.0|       0.0|\n",
      "|The movie \"The Accountant\" ...|   spoiler|[0.6775049714434234,0.32249...|  0.0|       0.0|\n",
      "|I had only heard about Lion...|   spoiler|[0.6775049714434234,0.32249...|  0.0|       0.0|\n",
      "|This movie is full of styli...|   spoiler|[0.6775049714434234,0.32249...|  0.0|       0.0|\n",
      "|Ten-year-old Chihiro Ogino ...|   spoiler|[0.6775049714434234,0.32249...|  0.0|       0.0|\n",
      "|A great book or movie is an...|   spoiler|[0.6775049714434234,0.32249...|  0.0|       0.0|\n",
      "+------------------------------+----------+------------------------------+-----+----------+\n",
      "only showing top 10 rows\n",
      "\n"
     ]
    }
   ],
   "source": [
    "#randomforest model\n",
    "# Note: Long run-time ~10mins\n",
    "\n",
    "from pyspark.ml.classification import RandomForestClassifier\n",
    "rf = RandomForestClassifier(labelCol=\"label\", featuresCol=\"features\", numTrees = 10)\n",
    "\n",
    "# Train model with Training Data\n",
    "rfModel = rf.fit(trainingData)\n",
    "predictions = rfModel.transform(testData)\n",
    "predictions.filter(predictions['prediction'] == 0) \\\n",
    "    .select(\"review_text\",\"is_spoiler\",\"probability\",\"label\",\"prediction\") \\\n",
    "    .orderBy(\"probability\", ascending=False) \\\n",
    "    .show(n = 10, truncate = 30)"
   ]
  },
  {
   "cell_type": "code",
   "execution_count": 59,
   "metadata": {},
   "outputs": [
    {
     "data": {
      "text/plain": [
       "0.6297238841587549"
      ]
     },
     "execution_count": 59,
     "metadata": {},
     "output_type": "execute_result"
    }
   ],
   "source": [
    "# RF accuracy\n",
    "# Note: Long run-time ~10mins\n",
    "evaluator = MulticlassClassificationEvaluator(predictionCol=\"prediction\")\n",
    "evaluator.evaluate(predictions)\n",
    "# numTrees: 10, accuracy: 0.6167863701070468"
   ]
  },
  {
   "cell_type": "code",
   "execution_count": 60,
   "metadata": {},
   "outputs": [
    {
     "name": "stdout",
     "output_type": "stream",
     "text": [
      "The ROC score is:  0.671587151002042\n"
     ]
    }
   ],
   "source": [
    "# Area under curve evaluation\n",
    "from pyspark.mllib.evaluation import BinaryClassificationMetrics as metric\n",
    "results = predictions.select(['probability', 'label'])\n",
    " \n",
    "## prepare score-label set\n",
    "results_collect = results.collect()\n",
    "results_list = [(float(i[0][0]), 1.0-float(i[1])) for i in results_collect]\n",
    "scoreAndLabels = sc.parallelize(results_list)\n",
    " \n",
    "metrics = metric(scoreAndLabels)\n",
    "print(\"The ROC score is: \", metrics.areaUnderROC)"
   ]
  },
  {
   "cell_type": "code",
   "execution_count": 61,
   "metadata": {},
   "outputs": [
    {
     "name": "stdout",
     "output_type": "stream",
     "text": [
      "Area under ROC = 0.671587\n",
      "Area under PR = 0.658796\n"
     ]
    }
   ],
   "source": [
    "# Precision and recall\n",
    "log = evaluate(predictions)"
   ]
  },
  {
   "cell_type": "code",
   "execution_count": 62,
   "metadata": {},
   "outputs": [
    {
     "data": {
      "image/png": "[encoded data removed]",
      "text/plain": [
       "<Figure size 432x288 with 1 Axes>"
      ]
     },
     "metadata": {
      "needs_background": "light"
     },
     "output_type": "display_data"
    }
   ],
   "source": [
    "# Plot the ROC curve\n",
    "from sklearn.metrics import roc_curve, auc\n",
    " \n",
    "fpr = dict()\n",
    "tpr = dict()\n",
    "roc_auc = dict()\n",
    " \n",
    "y_test = [i[1] for i in results_list]\n",
    "y_score = [i[0] for i in results_list]\n",
    " \n",
    "fpr, tpr, _ = roc_curve(y_test, y_score)\n",
    "roc_auc = auc(fpr, tpr)\n",
    " \n",
    "%matplotlib inline\n",
    "plt.figure()\n",
    "plt.plot(fpr, tpr, label='ROC curve (area = %0.2f)' % roc_auc)\n",
    "plt.plot([0, 1], [0, 1], 'k--')\n",
    "plt.xlim([0.0, 1.0])\n",
    "plt.ylim([0.0, 1.05])\n",
    "plt.xlabel('False Positive Rate')\n",
    "plt.ylabel('True Positive Rate')\n",
    "plt.title('Receiver operating characteristic example')\n",
    "plt.legend(loc=\"lower right\")\n",
    "plt.show()"
   ]
  },
  {
   "cell_type": "markdown",
   "metadata": {},
   "source": [
    "### Gradient-boosted tree classifier"
   ]
  },
  {
   "cell_type": "code",
   "execution_count": 63,
   "metadata": {},
   "outputs": [
    {
     "name": "stdout",
     "output_type": "stream",
     "text": [
      "+----------+-----+--------------------+\n",
      "|prediction|label|            features|\n",
      "+----------+-----+--------------------+\n",
      "|       0.0|  0.0|[0.00612635563689...|\n",
      "|       0.0|  0.0|[-0.0671021963209...|\n",
      "|       0.0|  0.0|[-0.1137438188903...|\n",
      "|       0.0|  0.0|[-0.0120790492160...|\n",
      "|       1.0|  0.0|[0.03210926906290...|\n",
      "+----------+-----+--------------------+\n",
      "only showing top 5 rows\n",
      "\n"
     ]
    }
   ],
   "source": [
    "# Note: Long run-time >1hour\n",
    "from pyspark.ml.classification import GBTClassifier\n",
    "\n",
    "# Train a gbt model\n",
    "gbt = GBTClassifier(labelCol=\"label\", featuresCol=\"features\", maxIter=10)\n",
    "gbtModel = gbt.fit(trainingData)\n",
    "predictions = gbtModel.transform(testData)\n",
    "\n",
    "# See some sample rows\n",
    "predictions.select(\"prediction\", \"label\", \"features\").show(5)\n",
    "\n",
    "\n",
    "# predictions.filter(predictions['prediction'] == 0) \\\n",
    "#     .select(\"review_text\",\"is_spoiler\",\"probability\",\"label\",\"prediction\") \\\n",
    "#     .orderBy(\"probability\", ascending=False) \\\n",
    "#     .show(n = 10, truncate = 30)"
   ]
  },
  {
   "cell_type": "code",
   "execution_count": 64,
   "metadata": {},
   "outputs": [
    {
     "data": {
      "text/plain": [
       "0.6362878682645317"
      ]
     },
     "execution_count": 64,
     "metadata": {},
     "output_type": "execute_result"
    }
   ],
   "source": [
    "# Gbt accuracy\n",
    "evaluator = MulticlassClassificationEvaluator(\n",
    "    labelCol=\"label\", predictionCol=\"prediction\", metricName=\"accuracy\")\n",
    "evaluator.evaluate(predictions)\n",
    "\n",
    "# print(\"Test Error = %g\" % (1.0 - accuracy))\n",
    "# gbtModelStages = gbtModel.stages[2]\n",
    "# print(gbtModel)  # summary only\n",
    "\n",
    "# maxIter: 10, accuracy: 0.6373391642862559"
   ]
  },
  {
   "cell_type": "code",
   "execution_count": 65,
   "metadata": {},
   "outputs": [
    {
     "name": "stdout",
     "output_type": "stream",
     "text": [
      "The ROC score is:  0.6855260538358802\n"
     ]
    }
   ],
   "source": [
    "# Area under curve evaluation\n",
    "results = predictions.select(['probability', 'label'])\n",
    " \n",
    "## prepare score-label set\n",
    "results_collect = results.collect()\n",
    "results_list = [(float(i[0][0]), 1.0-float(i[1])) for i in results_collect]\n",
    "scoreAndLabels = sc.parallelize(results_list)\n",
    " \n",
    "metrics = metric(scoreAndLabels)\n",
    "print(\"The ROC score is: \", metrics.areaUnderROC)"
   ]
  },
  {
   "cell_type": "code",
   "execution_count": 66,
   "metadata": {},
   "outputs": [
    {
     "data": {
      "image/png": "[encoded data removed]",
      "text/plain": [
       "<Figure size 432x288 with 1 Axes>"
      ]
     },
     "metadata": {
      "needs_background": "light"
     },
     "output_type": "display_data"
    }
   ],
   "source": [
    "# Plot the ROC curve\n",
    "from sklearn.metrics import roc_curve, auc\n",
    " \n",
    "fpr = dict()\n",
    "tpr = dict()\n",
    "roc_auc = dict()\n",
    " \n",
    "y_test = [i[1] for i in results_list]\n",
    "y_score = [i[0] for i in results_list]\n",
    " \n",
    "fpr, tpr, _ = roc_curve(y_test, y_score)\n",
    "roc_auc = auc(fpr, tpr)\n",
    " \n",
    "%matplotlib inline\n",
    "plt.figure()\n",
    "plt.plot(fpr, tpr, label='ROC curve (area = %0.2f)' % roc_auc)\n",
    "plt.plot([0, 1], [0, 1], 'k--')\n",
    "plt.xlim([0.0, 1.0])\n",
    "plt.ylim([0.0, 1.05])\n",
    "plt.xlabel('False Positive Rate')\n",
    "plt.ylabel('True Positive Rate')\n",
    "plt.title('Receiver operating characteristic example')\n",
    "plt.legend(loc=\"lower right\")\n",
    "plt.show()"
   ]
  },
  {
   "cell_type": "code",
   "execution_count": 68,
   "metadata": {},
   "outputs": [
    {
     "name": "stdout",
     "output_type": "stream",
     "text": [
      "Area under ROC = 0.685526\n",
      "Area under PR = 0.675357\n"
     ]
    }
   ],
   "source": [
    "# Precision and recall\n",
    "log = evaluate(predictions)"
   ]
  },
  {
   "cell_type": "code",
   "execution_count": 70,
   "metadata": {},
   "outputs": [
    {
     "name": "stdout",
     "output_type": "stream",
     "text": [
      "root\n",
      " |-- movie_id: string (nullable = true)\n",
      " |-- rating: string (nullable = true)\n",
      " |-- is_spoiler: string (nullable = true)\n",
      " |-- review_text: string (nullable = true)\n",
      " |-- words: array (nullable = true)\n",
      " |    |-- element: string (containsNull = true)\n",
      " |-- filtered: array (nullable = true)\n",
      " |    |-- element: string (containsNull = true)\n",
      " |-- features: vector (nullable = true)\n",
      " |-- label: double (nullable = false)\n",
      " |-- rawPrediction: vector (nullable = true)\n",
      " |-- probability: vector (nullable = true)\n",
      " |-- prediction: double (nullable = false)\n",
      "\n",
      "+---------+------+----------+--------------------+--------------------+--------------------+--------------------+-----+--------------------+--------------------+----------+\n",
      "| movie_id|rating|is_spoiler|         review_text|               words|            filtered|            features|label|       rawPrediction|         probability|prediction|\n",
      "+---------+------+----------+--------------------+--------------------+--------------------+--------------------+-----+--------------------+--------------------+----------+\n",
      "|tt0012349|    10|   spoiler|Charlie Chapline-...|[charlie, chaplin...|[charlie, chaplin...|[0.00612635563689...|  0.0|[0.54559431131064...|[0.74860548090963...|       0.0|\n",
      "|tt0012349|    10|   spoiler|The Kid became a ...|[the, kid, became...|[kid, became, a, ...|[-0.0671021963209...|  0.0|[0.19109362615591...|[0.59440053309153...|       0.0|\n",
      "|tt0012349|    10|   spoiler|The Kid is a 1921...|[the, kid, is, a,...|[kid, is, a, 1921...|[-0.1137438188903...|  0.0|[0.07908714704888...|[0.53946133386546...|       0.0|\n",
      "|tt0012349|    10|   spoiler|The Kid is a sile...|[the, kid, is, a,...|[kid, is, a, sile...|[-0.0120790492160...|  0.0|[0.18306570736320...|[0.59052386214902...|       0.0|\n",
      "|tt0012349|     8|   spoiler|For me, Charlie C...|[for, me, charlie...|[for, me, charlie...|[0.03210926906290...|  0.0|[-0.0393851879544...|[0.48031758204698...|       1.0|\n",
      "+---------+------+----------+--------------------+--------------------+--------------------+--------------------+-----+--------------------+--------------------+----------+\n",
      "only showing top 5 rows\n",
      "\n"
     ]
    }
   ],
   "source": [
    "# type(predictions)\n",
    "# predictions.count() # testData count is 160424\n",
    "predictions.printSchema()\n",
    "predictions.show(5)"
   ]
  },
  {
   "cell_type": "markdown",
   "metadata": {},
   "source": [
    "## Part 2) Movie Review Summarisation\n",
    "Given user input on a movie title/ID, filter for movie reviews without spoilers and return a summary doc consisting of overall rating, mean user rating and a text summarisation (extractive summary) of the reviews. \n",
    "\n",
    "Example movie ID: tt0111161"
   ]
  },
  {
   "cell_type": "code",
   "execution_count": 78,
   "metadata": {},
   "outputs": [],
   "source": [
    "predictions_df = predictions"
   ]
  },
  {
   "cell_type": "code",
   "execution_count": 76,
   "metadata": {},
   "outputs": [
    {
     "name": "stdout",
     "output_type": "stream",
     "text": [
      "+---------+------+-------------+--------------------+--------------------+--------------------+--------------------+-----+--------------------+--------------------+----------+\n",
      "| movie_id|rating|   is_spoiler|         review_text|               words|            filtered|            features|label|       rawPrediction|         probability|prediction|\n",
      "+---------+------+-------------+--------------------+--------------------+--------------------+--------------------+-----+--------------------+--------------------+----------+\n",
      "|tt0012349|    10|not a spoiler|A classic. One of...|[a, classic, one,...|[a, classic, one,...|[0.01216656929822...|  0.0|[1.02127237435592...|[0.88519213678496...|       0.0|\n",
      "|tt0012349|    10|not a spoiler|Charlie Chaplin, ...|[charlie, chaplin...|[charlie, chaplin...|[-0.0118891456954...|  0.0|[0.05154157976661...|[0.52574799377612...|       0.0|\n",
      "+---------+------+-------------+--------------------+--------------------+--------------------+--------------------+-----+--------------------+--------------------+----------+\n",
      "only showing top 2 rows\n",
      "\n"
     ]
    }
   ],
   "source": [
    "predictions_df.show(2)"
   ]
  },
  {
   "cell_type": "code",
   "execution_count": 74,
   "metadata": {},
   "outputs": [],
   "source": [
    "# !pip install sumy"
   ]
  },
  {
   "cell_type": "code",
   "execution_count": 79,
   "metadata": {},
   "outputs": [],
   "source": [
    "# LexRank for extractive summarisation\n",
    "from sumy.parsers.plaintext import PlaintextParser\n",
    "from sumy.parsers.html import HtmlParser\n",
    "from sumy.nlp.tokenizers import Tokenizer\n",
    "from sumy.summarizers.lex_rank import LexRankSummarizer\n",
    "\n",
    "class TextSummary(object):\n",
    "\n",
    "    def __init__(self, feeds_str, num_sents):\n",
    "        self.summary = str()\n",
    "        \n",
    "        parser = PlaintextParser.from_string(feeds_str, Tokenizer(\"english\"))\n",
    "        summarizer = LexRankSummarizer()\n",
    "\n",
    "        sentences = summarizer(parser.document, num_sents) # Summarize the document with x number of sentences\n",
    "        for sentence in sentences:\n",
    "            self.summary += (sentence.__unicode__())\n",
    "\n",
    "    def output(self):\n",
    "        return self.summary"
   ]
  },
  {
   "cell_type": "markdown",
   "metadata": {},
   "source": [
    "### The \"!Spoilers Here\" Tool"
   ]
  },
  {
   "cell_type": "code",
   "execution_count": 82,
   "metadata": {},
   "outputs": [
    {
     "name": "stdout",
     "output_type": "stream",
     "text": [
      "Hey! Please enter a movie ID. e.g. tt0111161\n",
      "tt0143145\n",
      "Spoiler-free review summary: \n",
      "After the mediocre GOLDENEYE and the great TOMORROW NEVER DIES, Pierce Brosnan is back for the third time in the character of James Bond.Don't try to make american films, you lost your chance in LOST AND FOUND, now it's worst than ever.We are far away from MANON DES SOURCES ...  Robert Carlyle rocks in TRAINSPOTING, funny in THE FULL MONTY, in THE WORLD IS NOT ENOUGH, he prooves to everybody that he's not good playing the bad man.\n",
      "Overall movie rating: 6.4\n",
      "Mean user rating: 6.720338983050848\n"
     ]
    }
   ],
   "source": [
    "from pyspark.sql.functions import col, avg\n",
    "print('Hey! Please enter a movie ID. e.g. tt0111161')\n",
    "chosen_movie_id = input()\n",
    "\n",
    "matching_movie_reviews = predictions_df.filter(predictions_df.movie_id == chosen_movie_id)\n",
    "chosen_movie_reviews = matching_movie_reviews.filter(matching_movie_reviews.is_spoiler == 'not a spoiler')\n",
    "\n",
    "chosen_movie_reviews_combined = chosen_movie_reviews.select('review_text').collect() # list\n",
    "chosen_movie_reviews_combined = ' '.join(chosen_movie_reviews_combined[0])\n",
    "\n",
    "# Extractive text summarisation of matching reviews\n",
    "chosen_movie_summary = TextSummary(chosen_movie_reviews_combined, 3) # Extractive summary into 3 sentences\n",
    "print(\"Spoiler-free review summary: \\n\" + chosen_movie_summary.output())\n",
    "\n",
    "# Overall movie rating\n",
    "chosen_movie_overall_rating = df_details.filter(df_details.movie_id == chosen_movie_id)\n",
    "chosen_movie_overall_rating = chosen_movie_overall_rating.select(['rating'])\n",
    "chosen_movie_overall_rating = ' '.join(chosen_movie_overall_rating.collect()[0])\n",
    "print(\"Overall movie rating: \" + chosen_movie_overall_rating)\n",
    "\n",
    "# Average user rating (user review-based)\n",
    "average_user_rating = chosen_movie_reviews.agg(avg(col(\"rating\")))\n",
    "average_user_rating = (average_user_rating.collect()[0])[\"avg(rating)\"]\n",
    "average_user_rating = str(average_user_rating)\n",
    "print(\"Mean user rating: \" + average_user_rating)"
   ]
  },
  {
   "cell_type": "markdown",
   "metadata": {},
   "source": [
    "### All done"
   ]
  }
 ],
 "metadata": {
  "kernelspec": {
   "display_name": "Python 3",
   "language": "python",
   "name": "python3"
  },
  "language_info": {
   "codemirror_mode": {
    "name": "ipython",
    "version": 3
   },
   "file_extension": ".py",
   "mimetype": "text/x-python",
   "name": "python",
   "nbconvert_exporter": "python",
   "pygments_lexer": "ipython3",
   "version": "3.7.7"
  }
 },
 "nbformat": 4,
 "nbformat_minor": 2
}
